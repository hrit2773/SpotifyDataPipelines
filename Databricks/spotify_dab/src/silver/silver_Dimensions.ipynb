{
 "cells": [
  {
   "cell_type": "code",
   "execution_count": 0,
   "metadata": {
    "application/vnd.databricks.v1+cell": {
     "cellMetadata": {
      "byteLimit": 2048000,
      "rowLimit": 10000
     },
     "inputWidgets": {},
     "nuid": "c6f8695d-8e96-4413-ab61-c1182728ca78",
     "showTitle": false,
     "tableResultSettingsMap": {},
     "title": ""
    }
   },
   "outputs": [],
   "source": [
    "%load_ext autoreload\n",
    "%autoreload 2\n",
    "# Enables autoreload; learn more at https://docs.databricks.com/en/files/workspace-modules.html#autoreload-for-python-modules\n",
    "# To disable autoreload; run %autoreload 0"
   ]
  },
  {
   "cell_type": "code",
   "execution_count": 0,
   "metadata": {
    "application/vnd.databricks.v1+cell": {
     "cellMetadata": {
      "byteLimit": 2048000,
      "rowLimit": 10000
     },
     "inputWidgets": {},
     "nuid": "57cd016f-a68e-435b-b66a-27e8746de105",
     "showTitle": false,
     "tableResultSettingsMap": {},
     "title": ""
    }
   },
   "outputs": [],
   "source": [
    "from pyspark.sql.functions import *\n",
    "from pyspark.sql.types import *\n",
    "import os, sys\n",
    "\n",
    "project_path = os.path.abspath(os.path.join(os.getcwd(), '..', '..'))\n",
    "\n",
    "if project_path not in sys.path:\n",
    "    sys.path.append(project_path)\n",
    "from utils.transformations import *"
   ]
  },
  {
   "cell_type": "markdown",
   "metadata": {
    "application/vnd.databricks.v1+cell": {
     "cellMetadata": {
      "byteLimit": 2048000,
      "rowLimit": 10000
     },
     "inputWidgets": {},
     "nuid": "bc3887c0-e1d0-44c3-a36e-c05aec7a9798",
     "showTitle": false,
     "tableResultSettingsMap": {},
     "title": ""
    }
   },
   "source": [
    "#DimUser"
   ]
  },
  {
   "cell_type": "markdown",
   "metadata": {
    "application/vnd.databricks.v1+cell": {
     "cellMetadata": {
      "byteLimit": 2048000,
      "rowLimit": 10000
     },
     "inputWidgets": {},
     "nuid": "823bd4d8-d85a-4d8b-b825-f3a66de8d6b9",
     "showTitle": false,
     "tableResultSettingsMap": {},
     "title": ""
    }
   },
   "source": [
    "#Autoloader"
   ]
  },
  {
   "cell_type": "code",
   "execution_count": 0,
   "metadata": {
    "application/vnd.databricks.v1+cell": {
     "cellMetadata": {
      "byteLimit": 2048000,
      "rowLimit": 10000
     },
     "inputWidgets": {},
     "nuid": "6a14f786-7a75-4864-b1ab-c2a0c8b399bc",
     "showTitle": false,
     "tableResultSettingsMap": {},
     "title": ""
    }
   },
   "outputs": [],
   "source": [
    "df_user=spark.readStream.format('cloudFiles')\\\n",
    "    .option('cloudFiles.format','parquet')\\\n",
    "    .option('cloudFiles.schemaLocation','abfss://silver@hriteshdatastorage.dfs.core.windows.net/DimUser/checkpoint')\\\n",
    "    .load('abfss://bronze@hriteshdatastorage.dfs.core.windows.net/DimUser')"
   ]
  },
  {
   "cell_type": "code",
   "execution_count": 0,
   "metadata": {
    "application/vnd.databricks.v1+cell": {
     "cellMetadata": {
      "byteLimit": 2048000,
      "rowLimit": 10000
     },
     "inputWidgets": {},
     "nuid": "4b4704a0-3d4b-4ae0-99db-a050736192f5",
     "showTitle": false,
     "tableResultSettingsMap": {},
     "title": ""
    }
   },
   "outputs": [],
   "source": [
    "df_user.display()"
   ]
  },
  {
   "cell_type": "code",
   "execution_count": 0,
   "metadata": {
    "application/vnd.databricks.v1+cell": {
     "cellMetadata": {
      "byteLimit": 2048000,
      "rowLimit": 10000
     },
     "inputWidgets": {},
     "nuid": "2e02279d-29b3-4de5-a051-b786ed9ee922",
     "showTitle": false,
     "tableResultSettingsMap": {},
     "title": ""
    }
   },
   "outputs": [],
   "source": [
    "df_user=df_user.withColumn('user_name', upper(col('user_name')))\n"
   ]
  },
  {
   "cell_type": "code",
   "execution_count": 0,
   "metadata": {
    "application/vnd.databricks.v1+cell": {
     "cellMetadata": {
      "byteLimit": 2048000,
      "rowLimit": 10000
     },
     "inputWidgets": {},
     "nuid": "106c434f-74da-475e-a919-4d7c101bced3",
     "showTitle": false,
     "tableResultSettingsMap": {},
     "title": ""
    }
   },
   "outputs": [],
   "source": [
    "df_user.display()"
   ]
  },
  {
   "cell_type": "code",
   "execution_count": 0,
   "metadata": {
    "application/vnd.databricks.v1+cell": {
     "cellMetadata": {
      "byteLimit": 2048000,
      "rowLimit": 10000
     },
     "inputWidgets": {},
     "nuid": "4af2967e-e8f3-4836-9a36-0ffc08d62371",
     "showTitle": false,
     "tableResultSettingsMap": {},
     "title": ""
    }
   },
   "outputs": [],
   "source": [
    "df_user_obj=reusable()\n",
    "df_user=df_user_obj.dropColumns(df_user, ['_rescued_data'])\n",
    "df_user=df_user.dropDuplicates(['user_id'])"
   ]
  },
  {
   "cell_type": "code",
   "execution_count": 0,
   "metadata": {
    "application/vnd.databricks.v1+cell": {
     "cellMetadata": {
      "byteLimit": 2048000,
      "rowLimit": 10000
     },
     "inputWidgets": {},
     "nuid": "05c4f22e-90b9-4ec5-8a3a-d15d967e0555",
     "showTitle": false,
     "tableResultSettingsMap": {},
     "title": ""
    }
   },
   "outputs": [],
   "source": [
    "df_user.display()"
   ]
  },
  {
   "cell_type": "code",
   "execution_count": 0,
   "metadata": {
    "application/vnd.databricks.v1+cell": {
     "cellMetadata": {
      "byteLimit": 2048000,
      "rowLimit": 10000
     },
     "inputWidgets": {},
     "nuid": "dbdc6442-e20b-4c50-b511-fd3bb88abd09",
     "showTitle": false,
     "tableResultSettingsMap": {},
     "title": ""
    }
   },
   "outputs": [],
   "source": [
    "df_user.writeStream.format('delta')\\\n",
    "    .outputMode('append')\\\n",
    "    .option('checkpointLocation','abfss://silver@hriteshdatastorage.dfs.core.windows.net/DimUser/checkpoint')\\\n",
    "    .trigger(once=True)\\\n",
    "    .option('path','abfss://silver@hriteshdatastorage.dfs.core.windows.net/DimUser/data')\\\n",
    ".toTable('spotify_cata.silver.DimUser')"
   ]
  },
  {
   "cell_type": "markdown",
   "metadata": {
    "application/vnd.databricks.v1+cell": {
     "cellMetadata": {
      "byteLimit": 2048000,
      "rowLimit": 10000
     },
     "inputWidgets": {},
     "nuid": "cd90e258-1980-4ed5-8e3a-8fc52a720da2",
     "showTitle": false,
     "tableResultSettingsMap": {},
     "title": ""
    }
   },
   "source": [
    "#DimArtist"
   ]
  },
  {
   "cell_type": "code",
   "execution_count": 0,
   "metadata": {
    "application/vnd.databricks.v1+cell": {
     "cellMetadata": {
      "byteLimit": 2048000,
      "rowLimit": 10000
     },
     "inputWidgets": {},
     "nuid": "f059270b-2801-4e60-8629-085180ed0584",
     "showTitle": false,
     "tableResultSettingsMap": {},
     "title": ""
    }
   },
   "outputs": [],
   "source": [
    "df_artist=spark.readStream.format('cloudFiles')\\\n",
    "    .option('cloudFiles.format','parquet')\\\n",
    "    .option('cloudFiles.schemaLocation','abfss://silver@hriteshdatastorage.dfs.core.windows.net/DimArtist/checkpoint')\\\n",
    "    .load('abfss://bronze@hriteshdatastorage.dfs.core.windows.net/DimArtist')"
   ]
  },
  {
   "cell_type": "code",
   "execution_count": 0,
   "metadata": {
    "application/vnd.databricks.v1+cell": {
     "cellMetadata": {
      "byteLimit": 2048000,
      "rowLimit": 10000
     },
     "inputWidgets": {},
     "nuid": "55f91e9e-5ede-4c3e-a7b0-c5f58ca02f36",
     "showTitle": false,
     "tableResultSettingsMap": {},
     "title": ""
    }
   },
   "outputs": [],
   "source": [
    "df_artist.display()"
   ]
  },
  {
   "cell_type": "code",
   "execution_count": 0,
   "metadata": {
    "application/vnd.databricks.v1+cell": {
     "cellMetadata": {
      "byteLimit": 2048000,
      "rowLimit": 10000
     },
     "inputWidgets": {},
     "nuid": "1caaad8e-4b02-42f0-9f63-3482c8622df1",
     "showTitle": false,
     "tableResultSettingsMap": {},
     "title": ""
    }
   },
   "outputs": [],
   "source": [
    "df_art_obj=reusable()\n",
    "df_artist=df_art_obj.dropColumns(df_artist, ['_rescued_data'])\n",
    "df_artist=df_artist.dropDuplicates(['artist_id'])"
   ]
  },
  {
   "cell_type": "code",
   "execution_count": 0,
   "metadata": {
    "application/vnd.databricks.v1+cell": {
     "cellMetadata": {
      "byteLimit": 2048000,
      "rowLimit": 10000
     },
     "inputWidgets": {},
     "nuid": "b8ec5f10-e37a-4a2f-b620-2bedbd993d9f",
     "showTitle": false,
     "tableResultSettingsMap": {},
     "title": ""
    }
   },
   "outputs": [],
   "source": [
    "df_artist.display()"
   ]
  },
  {
   "cell_type": "code",
   "execution_count": 0,
   "metadata": {
    "application/vnd.databricks.v1+cell": {
     "cellMetadata": {
      "byteLimit": 2048000,
      "rowLimit": 10000
     },
     "inputWidgets": {},
     "nuid": "cae22f25-426c-4553-a535-41a76781a0ac",
     "showTitle": false,
     "tableResultSettingsMap": {},
     "title": ""
    }
   },
   "outputs": [],
   "source": [
    "df_artist.writeStream.format('delta')\\\n",
    "    .outputMode('append')\\\n",
    "    .option('checkpointLocation','abfss://silver@hriteshdatastorage.dfs.core.windows.net/DimArtist/checkpoint')\\\n",
    "    .trigger(once=True)\\\n",
    "    .option('path','abfss://silver@hriteshdatastorage.dfs.core.windows.net/DimArtist/data')\\\n",
    "    .toTable('spotify_cata.silver.DimArtist')"
   ]
  },
  {
   "cell_type": "markdown",
   "metadata": {
    "application/vnd.databricks.v1+cell": {
     "cellMetadata": {
      "byteLimit": 2048000,
      "rowLimit": 10000
     },
     "inputWidgets": {},
     "nuid": "9a09e1ff-d7b1-424d-a8de-b8da929e0c54",
     "showTitle": false,
     "tableResultSettingsMap": {},
     "title": ""
    }
   },
   "source": [
    "#DimTrack"
   ]
  },
  {
   "cell_type": "code",
   "execution_count": 0,
   "metadata": {
    "application/vnd.databricks.v1+cell": {
     "cellMetadata": {
      "byteLimit": 2048000,
      "rowLimit": 10000
     },
     "inputWidgets": {},
     "nuid": "2a694a1e-ff40-4511-a605-dc762e1c8d74",
     "showTitle": false,
     "tableResultSettingsMap": {},
     "title": ""
    }
   },
   "outputs": [],
   "source": [
    "df_track=spark.readStream.format('cloudFiles')\\\n",
    "    .option('cloudFiles.format','parquet')\\\n",
    "    .option('cloudFiles.schemaLocation','abfss://silver@hriteshdatastorage.dfs.core.windows.net/DimTrack/checkpoint')\\\n",
    "    .load('abfss://bronze@hriteshdatastorage.dfs.core.windows.net/DimTrack')"
   ]
  },
  {
   "cell_type": "code",
   "execution_count": 0,
   "metadata": {
    "application/vnd.databricks.v1+cell": {
     "cellMetadata": {
      "byteLimit": 2048000,
      "rowLimit": 10000
     },
     "inputWidgets": {},
     "nuid": "03ffcf30-f15e-429b-808f-f27060079985",
     "showTitle": false,
     "tableResultSettingsMap": {},
     "title": ""
    }
   },
   "outputs": [],
   "source": [
    "df_track.display()"
   ]
  },
  {
   "cell_type": "code",
   "execution_count": 0,
   "metadata": {
    "application/vnd.databricks.v1+cell": {
     "cellMetadata": {
      "byteLimit": 2048000,
      "rowLimit": 10000
     },
     "inputWidgets": {},
     "nuid": "38c27081-975a-4ca3-b45d-adbbab0444ef",
     "showTitle": false,
     "tableResultSettingsMap": {},
     "title": ""
    }
   },
   "outputs": [],
   "source": [
    "df_track=df_track.withColumn('duaration_flag',when(col('duration_sec')<150,'Short').when(col(\"duration_sec\")<300,'Medium').otherwise('Long'))\n",
    "df_track=df_track.withColumn('track_name',regexp_replace(col('track_name'),'-',' '))\n",
    "df_track=reusable().dropColumns(df_track,['_rescued_data'])\n",
    "df_track=df_track.dropDuplicates(['track_id'])"
   ]
  },
  {
   "cell_type": "code",
   "execution_count": 0,
   "metadata": {
    "application/vnd.databricks.v1+cell": {
     "cellMetadata": {
      "byteLimit": 2048000,
      "rowLimit": 10000
     },
     "inputWidgets": {},
     "nuid": "ca56d069-aaed-44dd-8b35-85a7afa716ca",
     "showTitle": false,
     "tableResultSettingsMap": {},
     "title": ""
    }
   },
   "outputs": [],
   "source": [
    "df_track.display()"
   ]
  },
  {
   "cell_type": "code",
   "execution_count": 0,
   "metadata": {
    "application/vnd.databricks.v1+cell": {
     "cellMetadata": {
      "byteLimit": 2048000,
      "rowLimit": 10000
     },
     "inputWidgets": {},
     "nuid": "8732489c-4a4e-478b-aab9-0eb24b4ab813",
     "showTitle": false,
     "tableResultSettingsMap": {},
     "title": ""
    }
   },
   "outputs": [],
   "source": [
    "df_track.writeStream.format('delta')\\\n",
    "    .outputMode('append')\\\n",
    "    .option('checkpointLocation','abfss://silver@hriteshdatastorage.dfs.core.windows.net/DimTrack/checkpoint')\\\n",
    "    .trigger(once=True)\\\n",
    "    .option('path','abfss://silver@hriteshdatastorage.dfs.core.windows.net/DimTrack/data')\\\n",
    "    .toTable('spotify_cata.silver.DimTrack')"
   ]
  },
  {
   "cell_type": "markdown",
   "metadata": {
    "application/vnd.databricks.v1+cell": {
     "cellMetadata": {
      "byteLimit": 2048000,
      "rowLimit": 10000
     },
     "inputWidgets": {},
     "nuid": "57991a3f-854f-4c1b-8745-1d8ade117efb",
     "showTitle": false,
     "tableResultSettingsMap": {},
     "title": ""
    }
   },
   "source": [
    "#DimDate"
   ]
  },
  {
   "cell_type": "code",
   "execution_count": 0,
   "metadata": {
    "application/vnd.databricks.v1+cell": {
     "cellMetadata": {
      "byteLimit": 2048000,
      "rowLimit": 10000
     },
     "inputWidgets": {},
     "nuid": "92eee064-3020-4c38-b00a-9c3bfa16217e",
     "showTitle": false,
     "tableResultSettingsMap": {},
     "title": ""
    }
   },
   "outputs": [],
   "source": [
    "df_date=spark.readStream.format('cloudFiles')\\\n",
    "    .option('cloudFiles.format','parquet')\\\n",
    "    .option('cloudFiles.schemaLocation','abfss://silver@hriteshdatastorage.dfs.core.windows.net/DimDate/checkpoint')\\\n",
    "    .load('abfss://bronze@hriteshdatastorage.dfs.core.windows.net/DimDate')"
   ]
  },
  {
   "cell_type": "code",
   "execution_count": 0,
   "metadata": {
    "application/vnd.databricks.v1+cell": {
     "cellMetadata": {
      "byteLimit": 2048000,
      "rowLimit": 10000
     },
     "inputWidgets": {},
     "nuid": "1b896a74-d410-4b64-965a-a7bbfbfb61d4",
     "showTitle": false,
     "tableResultSettingsMap": {},
     "title": ""
    }
   },
   "outputs": [],
   "source": [
    "df_date.display()"
   ]
  },
  {
   "cell_type": "code",
   "execution_count": 0,
   "metadata": {
    "application/vnd.databricks.v1+cell": {
     "cellMetadata": {
      "byteLimit": 2048000,
      "rowLimit": 10000
     },
     "inputWidgets": {},
     "nuid": "72be925a-3e87-49f1-8d80-bd25c67a662e",
     "showTitle": false,
     "tableResultSettingsMap": {},
     "title": ""
    }
   },
   "outputs": [],
   "source": [
    "df_date=reusable().dropColumns(df_date,['_rescued_data'])\n",
    "df_date.writeStream.format('delta')\\\n",
    "    .outputMode('append')\\\n",
    "    .option('checkpointLocation','abfss://silver@hriteshdatastorage.dfs.core.windows.net/DimDate/checkpoint')\\\n",
    "    .trigger(once=True)\\\n",
    "    .option('path','abfss://silver@hriteshdatastorage.dfs.core.windows.net/DimDate/data')\\\n",
    "    .toTable('spotify_cata.silver.DimDate')"
   ]
  },
  {
   "cell_type": "markdown",
   "metadata": {
    "application/vnd.databricks.v1+cell": {
     "cellMetadata": {
      "byteLimit": 2048000,
      "rowLimit": 10000
     },
     "inputWidgets": {},
     "nuid": "f9443c62-776b-4165-968e-17c12f5a9e68",
     "showTitle": false,
     "tableResultSettingsMap": {},
     "title": ""
    }
   },
   "source": [
    "#FactStream"
   ]
  },
  {
   "cell_type": "code",
   "execution_count": 0,
   "metadata": {
    "application/vnd.databricks.v1+cell": {
     "cellMetadata": {
      "byteLimit": 2048000,
      "rowLimit": 10000
     },
     "inputWidgets": {},
     "nuid": "081045b8-d3af-4760-bae0-cfdac1fe61c3",
     "showTitle": false,
     "tableResultSettingsMap": {},
     "title": ""
    }
   },
   "outputs": [],
   "source": [
    "df_fact_stream=spark.readStream.format('cloudFiles')\\\n",
    "    .option('cloudFiles.format','parquet')\\\n",
    "    .option('cloudFiles.schemaLocation','abfss://silver@hriteshdatastorage.dfs.core.windows.net/FactStream/checkpoint')\\\n",
    "    .load('abfss://bronze@hriteshdatastorage.dfs.core.windows.net/FactStream')\n",
    "df_fact_stream=reusable().dropColumns(df_fact_stream,['_rescued_data'])"
   ]
  },
  {
   "cell_type": "code",
   "execution_count": 0,
   "metadata": {
    "application/vnd.databricks.v1+cell": {
     "cellMetadata": {
      "byteLimit": 2048000,
      "rowLimit": 10000
     },
     "inputWidgets": {},
     "nuid": "d87a989e-60a8-4495-8c5f-812221fc334a",
     "showTitle": false,
     "tableResultSettingsMap": {},
     "title": ""
    }
   },
   "outputs": [],
   "source": [
    "df_fact_stream.writeStream.format('delta')\\\n",
    "    .outputMode('append')\\\n",
    "    .option('checkpointLocation','abfss://silver@hriteshdatastorage.dfs.core.windows.net/FactStream/checkpoint')\\\n",
    "    .trigger(once=True)\\\n",
    "    .option('path','abfss://silver@hriteshdatastorage.dfs.core.windows.net/FactStream/data')\\\n",
    "    .toTable('spotify_cata.silver.FactStream')"
   ]
  },
  {
   "cell_type": "code",
   "execution_count": 0,
   "metadata": {
    "application/vnd.databricks.v1+cell": {
     "cellMetadata": {
      "byteLimit": 2048000,
      "rowLimit": 10000
     },
     "inputWidgets": {},
     "nuid": "fd5af2a3-3013-474a-8335-9573243d3feb",
     "showTitle": false,
     "tableResultSettingsMap": {},
     "title": ""
    }
   },
   "outputs": [],
   "source": []
  }
 ],
 "metadata": {
  "application/vnd.databricks.v1+notebook": {
   "computePreferences": {
    "hardware": {
     "accelerator": null,
     "gpuPoolId": null,
     "memory": null
    }
   },
   "dashboards": [],
   "environmentMetadata": {
    "base_environment": "",
    "environment_version": "4"
   },
   "inputWidgetPreferences": null,
   "language": "python",
   "notebookMetadata": {
    "pythonIndentUnit": 4
   },
   "notebookName": "silver_Dimensions",
   "widgets": {}
  },
  "language_info": {
   "name": "python"
  }
 },
 "nbformat": 4,
 "nbformat_minor": 0
}
