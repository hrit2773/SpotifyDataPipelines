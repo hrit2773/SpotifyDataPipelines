{
 "cells": [
  {
   "cell_type": "code",
   "execution_count": 0,
   "metadata": {
    "application/vnd.databricks.v1+cell": {
     "cellMetadata": {
      "byteLimit": 2048000,
      "rowLimit": 10000
     },
     "inputWidgets": {},
     "nuid": "c6d6d447-4f0e-4016-8030-3ea4246f83ff",
     "showTitle": false,
     "tableResultSettingsMap": {},
     "title": ""
    }
   },
   "outputs": [],
   "source": [
    "parameters=[\n",
    "    {\n",
    "        \"table\":\"spotify_cata.silver.factstream\",\n",
    "        \"alias\":\"factstream\",\n",
    "        \"cols\":\"factstream.stream_id, factstream.listen_duration\"\n",
    "    },\n",
    "    {\n",
    "        \"table\":\"spotify_cata.silver.dimuser\",\n",
    "        \"alias\":\"dimuser\",\n",
    "        \"cols\":\"factstream.user_id, dimuser.user_name\",\n",
    "        \"condition\":\"factstream.user_id = dimuser.user_id\"\n",
    "    },\n",
    "    {\n",
    "        \"table\":\"spotify_cata.silver.dimtrack\",\n",
    "        \"alias\":\"dimtrack\",\n",
    "        \"cols\":\"dimtrack.track_id, dimtrack.track_name\" ,\n",
    "        \"condition\":\"factstream.track_id = dimtrack.track_id\"\n",
    "    }\n",
    "]"
   ]
  },
  {
   "cell_type": "code",
   "execution_count": 0,
   "metadata": {
    "application/vnd.databricks.v1+cell": {
     "cellMetadata": {
      "byteLimit": 2048000,
      "rowLimit": 10000
     },
     "inputWidgets": {},
     "nuid": "71680cd8-2631-4a85-b460-af731d243d65",
     "showTitle": false,
     "tableResultSettingsMap": {},
     "title": ""
    }
   },
   "outputs": [],
   "source": [
    "%pip install jinja2\n",
    "import jinja2\n",
    "from jinja2 import Template"
   ]
  },
  {
   "cell_type": "code",
   "execution_count": 0,
   "metadata": {
    "application/vnd.databricks.v1+cell": {
     "cellMetadata": {
      "byteLimit": 2048000,
      "rowLimit": 10000
     },
     "inputWidgets": {},
     "nuid": "81b42e4f-ae9b-44da-9251-50188c75498b",
     "showTitle": false,
     "tableResultSettingsMap": {},
     "title": ""
    }
   },
   "outputs": [],
   "source": [
    "query_text=\"\"\"\n",
    "SELECT\n",
    "    {%for params in parameters%}\n",
    "        {{params.cols}}\n",
    "        {%if not loop.last%},{%endif%}\n",
    "    {%endfor%}\n",
    "FROM\n",
    "    {%for params in parameters%}\n",
    "        {%if loop.first%}\n",
    "            {{params.table}} AS {{params.alias}}\n",
    "        {%else%}\n",
    "        LEFT JOIN \n",
    "        {{params.table}} AS {{params.alias}}\n",
    "        ON {{params.condition}}\n",
    "        {%endif%}\n",
    "    {%endfor%}\n",
    "\"\"\"\n",
    "query_template = Template(query_text)\n",
    "query=query_template.render(parameters=parameters)\n",
    "print(query)"
   ]
  },
  {
   "cell_type": "code",
   "execution_count": 0,
   "metadata": {
    "application/vnd.databricks.v1+cell": {
     "cellMetadata": {
      "byteLimit": 2048000,
      "rowLimit": 10000
     },
     "inputWidgets": {},
     "nuid": "9939c6a0-4187-4ae7-bb8a-7c05e21a0d2b",
     "showTitle": false,
     "tableResultSettingsMap": {},
     "title": ""
    }
   },
   "outputs": [],
   "source": [
    "spark.sql(query).display()"
   ]
  },
  {
   "cell_type": "code",
   "execution_count": 0,
   "metadata": {
    "application/vnd.databricks.v1+cell": {
     "cellMetadata": {},
     "inputWidgets": {},
     "nuid": "17933d80-19f9-45dd-a91f-d52fb2292007",
     "showTitle": false,
     "tableResultSettingsMap": {},
     "title": ""
    }
   },
   "outputs": [],
   "source": []
  }
 ],
 "metadata": {
  "application/vnd.databricks.v1+notebook": {
   "computePreferences": null,
   "dashboards": [],
   "environmentMetadata": {
    "base_environment": "",
    "environment_version": "4"
   },
   "inputWidgetPreferences": null,
   "language": "python",
   "notebookMetadata": {
    "pythonIndentUnit": 4
   },
   "notebookName": "jinja_notebook",
   "widgets": {}
  },
  "language_info": {
   "name": "python"
  }
 },
 "nbformat": 4,
 "nbformat_minor": 0
}
